{
 "cells": [
  {
   "cell_type": "code",
   "execution_count": 1,
   "id": "5efd3c3b",
   "metadata": {},
   "outputs": [],
   "source": [
    "import json\n",
    "import numpy as np"
   ]
  },
  {
   "cell_type": "code",
   "execution_count": 2,
   "id": "68df2413",
   "metadata": {},
   "outputs": [
    {
     "name": "stdout",
     "output_type": "stream",
     "text": [
      "{'image': 'val2014/COCO_val2014_000000184613.jpg', 'caption': ['A child holding a flowered umbrella and petting a yak.', 'A young man holding an umbrella next to a herd of cattle.', 'a young boy barefoot holding an umbrella touching the horn of a cow', 'A young boy with an umbrella who is touching the horn of a cow.', 'A boy holding an umbrella while standing next to livestock.']}\n",
      "{'image': 'val2014/COCO_val2014_000000391895.jpg', 'caption': ['A man with a red helmet on a small moped on a dirt road. ', 'Man riding a motor bike on a dirt road on the countryside.', 'A man riding on the back of a motorcycle.', 'A dirt path with a young person on a motor bike rests to the foreground of a verdant area with a bridge and a background of cloud-wreathed mountains. ', 'A man in a red shirt and a red hat is on a motorcycle on a hill side.']}\n"
     ]
    }
   ],
   "source": [
    "coco_val_path = \"/data/SSD/coco/annotations/coco_karpathy_val.json\"\n",
    "coco_test_path = \"/data/SSD/coco/annotations/coco_karpathy_test.json\"\n",
    "\n",
    "with open(coco_val_path, \"r\") as f:\n",
    "    coco_val = json.load(f)\n",
    "\n",
    "with open(coco_test_path, \"r\") as f:\n",
    "    coco_test = json.load(f)\n",
    "\n",
    "print(coco_val[0])\n",
    "print(coco_test[0])"
   ]
  },
  {
   "cell_type": "code",
   "execution_count": 5,
   "id": "6b2f00ed",
   "metadata": {},
   "outputs": [],
   "source": [
    "# Split val and test set into one image vs one caption style, just as the train set\n",
    "\n",
    "coco_val_new = []\n",
    "coco_test_new = []\n",
    "\n",
    "for item in coco_val:\n",
    "    for caption in item[\"caption\"]:\n",
    "        coco_val_new.append({\"image\": item[\"image\"], \"caption\": caption})\n",
    "\n",
    "\n",
    "for item in coco_test:\n",
    "    for caption in item[\"caption\"]:\n",
    "        coco_test_new.append({\"image\": item[\"image\"], \"caption\": caption})"
   ]
  },
  {
   "cell_type": "code",
   "execution_count": 7,
   "id": "b3f64c93",
   "metadata": {},
   "outputs": [],
   "source": [
    "# save coco_val and coco_test as json back to original path\n",
    "\n",
    "import json\n",
    "\n",
    "coco_val_path_new = \"/data/SSD/coco/annotations/coco_karpathy_val_one_caption.json\"\n",
    "coco_test_path_new = \"/data/SSD/coco/annotations/coco_karpathy_test_one_caption.json\"\n",
    "\n",
    "with open(coco_val_path_new, \"w\") as f:\n",
    "    json.dump(coco_val_new, f)\n",
    "\n",
    "with open(coco_test_path_new, \"w\") as f:\n",
    "    json.dump(coco_test_new, f)"
   ]
  },
  {
   "cell_type": "code",
   "execution_count": null,
   "id": "76c5ad7e",
   "metadata": {},
   "outputs": [],
   "source": []
  }
 ],
 "metadata": {
  "kernelspec": {
   "display_name": "multimodal",
   "language": "python",
   "name": "python3"
  },
  "language_info": {
   "codemirror_mode": {
    "name": "ipython",
    "version": 3
   },
   "file_extension": ".py",
   "mimetype": "text/x-python",
   "name": "python",
   "nbconvert_exporter": "python",
   "pygments_lexer": "ipython3",
   "version": "3.8.18"
  }
 },
 "nbformat": 4,
 "nbformat_minor": 5
}
